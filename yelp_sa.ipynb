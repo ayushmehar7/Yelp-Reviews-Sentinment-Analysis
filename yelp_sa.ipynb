{
 "cells": [
  {
   "cell_type": "markdown",
   "metadata": {},
   "source": [
    "## Standard Imports"
   ]
  },
  {
   "cell_type": "code",
   "execution_count": 2,
   "metadata": {},
   "outputs": [],
   "source": [
    "import numpy as np\n",
    "import matplotlib.pyplot as plt\n",
    "import pandas as pd\n",
    "import seaborn as sns"
   ]
  },
  {
   "cell_type": "code",
   "execution_count": 3,
   "metadata": {},
   "outputs": [],
   "source": [
    "import string\n",
    "import warnings\n",
    "warnings.filterwarnings('ignore')"
   ]
  },
  {
   "cell_type": "code",
   "execution_count": 4,
   "metadata": {},
   "outputs": [],
   "source": [
    "import torch\n",
    "import torch.nn as nn\n",
    "import torch.nn.functional as F\n",
    "from torch.utils.data import TensorDataset,DataLoader"
   ]
  },
  {
   "cell_type": "markdown",
   "metadata": {},
   "source": [
    "## Importing Data"
   ]
  },
  {
   "cell_type": "code",
   "execution_count": 5,
   "metadata": {},
   "outputs": [
    {
     "data": {
      "text/html": [
       "<div>\n",
       "<style scoped>\n",
       "    .dataframe tbody tr th:only-of-type {\n",
       "        vertical-align: middle;\n",
       "    }\n",
       "\n",
       "    .dataframe tbody tr th {\n",
       "        vertical-align: top;\n",
       "    }\n",
       "\n",
       "    .dataframe thead th {\n",
       "        text-align: right;\n",
       "    }\n",
       "</style>\n",
       "<table border=\"1\" class=\"dataframe\">\n",
       "  <thead>\n",
       "    <tr style=\"text-align: right;\">\n",
       "      <th></th>\n",
       "      <th>review</th>\n",
       "      <th>sentiment</th>\n",
       "    </tr>\n",
       "  </thead>\n",
       "  <tbody>\n",
       "    <tr>\n",
       "      <th>0</th>\n",
       "      <td>Wow... Loved this place.</td>\n",
       "      <td>1</td>\n",
       "    </tr>\n",
       "    <tr>\n",
       "      <th>1</th>\n",
       "      <td>Crust is not good.</td>\n",
       "      <td>0</td>\n",
       "    </tr>\n",
       "    <tr>\n",
       "      <th>2</th>\n",
       "      <td>Not tasty and the texture was just nasty.</td>\n",
       "      <td>0</td>\n",
       "    </tr>\n",
       "    <tr>\n",
       "      <th>3</th>\n",
       "      <td>Stopped by during the late May bank holiday of...</td>\n",
       "      <td>1</td>\n",
       "    </tr>\n",
       "    <tr>\n",
       "      <th>4</th>\n",
       "      <td>The selection on the menu was great and so wer...</td>\n",
       "      <td>1</td>\n",
       "    </tr>\n",
       "  </tbody>\n",
       "</table>\n",
       "</div>"
      ],
      "text/plain": [
       "                                              review sentiment\n",
       "0                           Wow... Loved this place.         1\n",
       "1                                 Crust is not good.         0\n",
       "2          Not tasty and the texture was just nasty.         0\n",
       "3  Stopped by during the late May bank holiday of...         1\n",
       "4  The selection on the menu was great and so wer...         1"
      ]
     },
     "execution_count": 5,
     "metadata": {},
     "output_type": "execute_result"
    }
   ],
   "source": [
    "with open(\"./data/yelp_labelled.txt\") as f:\n",
    "    reviews = f.read()\n",
    "yelp = pd.DataFrame([review.split('\\t') for review in reviews.split('\\n')])\n",
    "yelp.columns = ['review','sentiment']\n",
    "yelp.head()"
   ]
  },
  {
   "cell_type": "code",
   "execution_count": 6,
   "metadata": {},
   "outputs": [],
   "source": [
    "yelp = yelp.drop(1000,axis = 0)"
   ]
  },
  {
   "cell_type": "markdown",
   "metadata": {},
   "source": [
    "## Exploratory Data Analysis"
   ]
  },
  {
   "cell_type": "code",
   "execution_count": 7,
   "metadata": {},
   "outputs": [],
   "source": [
    "yelp['length'] = yelp['review'].apply(len)"
   ]
  },
  {
   "cell_type": "code",
   "execution_count": 8,
   "metadata": {},
   "outputs": [
    {
     "data": {
      "text/html": [
       "<div>\n",
       "<style scoped>\n",
       "    .dataframe tbody tr th:only-of-type {\n",
       "        vertical-align: middle;\n",
       "    }\n",
       "\n",
       "    .dataframe tbody tr th {\n",
       "        vertical-align: top;\n",
       "    }\n",
       "\n",
       "    .dataframe thead th {\n",
       "        text-align: right;\n",
       "    }\n",
       "</style>\n",
       "<table border=\"1\" class=\"dataframe\">\n",
       "  <thead>\n",
       "    <tr style=\"text-align: right;\">\n",
       "      <th></th>\n",
       "      <th>length</th>\n",
       "    </tr>\n",
       "  </thead>\n",
       "  <tbody>\n",
       "    <tr>\n",
       "      <th>count</th>\n",
       "      <td>1000.000000</td>\n",
       "    </tr>\n",
       "    <tr>\n",
       "      <th>mean</th>\n",
       "      <td>58.320000</td>\n",
       "    </tr>\n",
       "    <tr>\n",
       "      <th>std</th>\n",
       "      <td>32.366699</td>\n",
       "    </tr>\n",
       "    <tr>\n",
       "      <th>min</th>\n",
       "      <td>11.000000</td>\n",
       "    </tr>\n",
       "    <tr>\n",
       "      <th>25%</th>\n",
       "      <td>33.000000</td>\n",
       "    </tr>\n",
       "    <tr>\n",
       "      <th>50%</th>\n",
       "      <td>51.000000</td>\n",
       "    </tr>\n",
       "    <tr>\n",
       "      <th>75%</th>\n",
       "      <td>80.000000</td>\n",
       "    </tr>\n",
       "    <tr>\n",
       "      <th>max</th>\n",
       "      <td>149.000000</td>\n",
       "    </tr>\n",
       "  </tbody>\n",
       "</table>\n",
       "</div>"
      ],
      "text/plain": [
       "            length\n",
       "count  1000.000000\n",
       "mean     58.320000\n",
       "std      32.366699\n",
       "min      11.000000\n",
       "25%      33.000000\n",
       "50%      51.000000\n",
       "75%      80.000000\n",
       "max     149.000000"
      ]
     },
     "execution_count": 8,
     "metadata": {},
     "output_type": "execute_result"
    }
   ],
   "source": [
    "yelp.describe()"
   ]
  },
  {
   "cell_type": "code",
   "execution_count": 9,
   "metadata": {},
   "outputs": [
    {
     "data": {
      "text/plain": [
       "<matplotlib.axes._subplots.AxesSubplot at 0x20ae5ed14e0>"
      ]
     },
     "execution_count": 9,
     "metadata": {},
     "output_type": "execute_result"
    },
    {
     "data": {
      "image/png": "[encoded data removed]",
      "text/plain": [
       "<Figure size 432x288 with 1 Axes>"
      ]
     },
     "metadata": {
      "needs_background": "light"
     },
     "output_type": "display_data"
    }
   ],
   "source": [
    "sns.countplot(x = 'sentiment',data = yelp)"
   ]
  },
  {
   "cell_type": "code",
   "execution_count": 10,
   "metadata": {},
   "outputs": [
    {
     "data": {
      "text/plain": [
       "<matplotlib.axes._subplots.AxesSubplot at 0x20ae5f7d358>"
      ]
     },
     "execution_count": 10,
     "metadata": {},
     "output_type": "execute_result"
    },
    {
     "data": {
      "image/png": "[encoded data removed]",
      "text/plain": [
       "<Figure size 432x288 with 1 Axes>"
      ]
     },
     "metadata": {
      "needs_background": "light"
     },
     "output_type": "display_data"
    }
   ],
   "source": [
    "sns.boxplot(x = 'sentiment',y = 'length',data = yelp)"
   ]
  },
  {
   "cell_type": "code",
   "execution_count": 11,
   "metadata": {},
   "outputs": [
    {
     "data": {
      "text/plain": [
       "<seaborn.axisgrid.FacetGrid at 0x20ae5feb9b0>"
      ]
     },
     "execution_count": 11,
     "metadata": {},
     "output_type": "execute_result"
    },
    {
     "data": {
      "image/png": "[encoded data removed]",
      "text/plain": [
       "<Figure size 418.5x360 with 1 Axes>"
      ]
     },
     "metadata": {
      "needs_background": "light"
     },
     "output_type": "display_data"
    }
   ],
   "source": [
    "g = sns.FacetGrid(yelp,hue = 'sentiment',size = 5)\n",
    "g.map(sns.distplot,'length')\n",
    "g.add_legend()"
   ]
  },
  {
   "cell_type": "markdown",
   "metadata": {},
   "source": [
    "Negative Reviews tend to be longer !!"
   ]
  },
  {
   "cell_type": "markdown",
   "metadata": {},
   "source": [
    "## Tokenizing Reviews and Setting up Vocabulary"
   ]
  },
  {
   "cell_type": "code",
   "execution_count": 12,
   "metadata": {},
   "outputs": [],
   "source": [
    "from nltk.tokenize import word_tokenize"
   ]
  },
  {
   "cell_type": "code",
   "execution_count": 13,
   "metadata": {},
   "outputs": [],
   "source": [
    "def text_preprocessing(data):\n",
    "    texts = list(data['review'].values)\n",
    "    clean_text = []\n",
    "    for i in texts:\n",
    "        clean_text.append(i.translate(str.maketrans('','',string.punctuation)).lower().rstrip())\n",
    "    tokenized = [word_tokenize(x) for x in clean_text]\n",
    "    all_text = set()\n",
    "    for tokens in tokenized:\n",
    "        for words in tokens:\n",
    "            all_text.add(words)\n",
    "    return tokenized,all_text"
   ]
  },
  {
   "cell_type": "code",
   "execution_count": 14,
   "metadata": {},
   "outputs": [],
   "source": [
    "reviews,vocab = text_preprocessing(yelp)"
   ]
  },
  {
   "cell_type": "code",
   "execution_count": 15,
   "metadata": {},
   "outputs": [
    {
     "data": {
      "text/plain": [
       "['wow', 'loved', 'this', 'place']"
      ]
     },
     "execution_count": 15,
     "metadata": {},
     "output_type": "execute_result"
    }
   ],
   "source": [
    "reviews[0]"
   ]
  },
  {
   "cell_type": "markdown",
   "metadata": {},
   "source": [
    "## Mapping Vocabulary Words with Indexes and vice-versa"
   ]
  },
  {
   "cell_type": "code",
   "execution_count": 16,
   "metadata": {},
   "outputs": [],
   "source": [
    "def mapp_words(words):\n",
    "    word_to_int = {w:i+1 for i,w in enumerate(words)}\n",
    "    int_to_word = {i:w for w,i in word_to_int.items()}\n",
    "    return word_to_int,int_to_word"
   ]
  },
  {
   "cell_type": "code",
   "execution_count": 17,
   "metadata": {},
   "outputs": [],
   "source": [
    "word_to_int,int_to_word = mapp_words(vocab)"
   ]
  },
  {
   "cell_type": "markdown",
   "metadata": {},
   "source": [
    "## Padding Reviews"
   ]
  },
  {
   "cell_type": "code",
   "execution_count": 18,
   "metadata": {},
   "outputs": [],
   "source": [
    "def pad_text(tokenized_reviews,seq_length):\n",
    "    reviews = []\n",
    "    for review in tokenized_reviews:\n",
    "        if len(review) >= seq_length:\n",
    "            reviews.append(review[:seq_length])\n",
    "        else:\n",
    "            reviews.append(['']*(seq_length - len(review)) + review)\n",
    "    return np.array(reviews)"
   ]
  },
  {
   "cell_type": "code",
   "execution_count": 19,
   "metadata": {},
   "outputs": [],
   "source": [
    "padded_reviews = pad_text(reviews,75)"
   ]
  },
  {
   "cell_type": "code",
   "execution_count": 20,
   "metadata": {},
   "outputs": [
    {
     "data": {
      "text/plain": [
       "array(['', '', '', '', '', '', '', '', '', '', '', '', '', '', '', '', '',\n",
       "       '', '', '', '', '', '', '', '', '', '', '', '', '', '', '', '', '',\n",
       "       '', '', '', '', '', '', '', '', '', '', '', '', '', '', '', '', '',\n",
       "       '', '', '', '', '', '', '', '', '', '', '', '', '', 'now', 'i',\n",
       "       'am', 'getting', 'angry', 'and', 'i', 'want', 'my', 'damn', 'pho'],\n",
       "      dtype='<U33')"
      ]
     },
     "execution_count": 20,
     "metadata": {},
     "output_type": "execute_result"
    }
   ],
   "source": [
    "padded_reviews[5]"
   ]
  },
  {
   "cell_type": "markdown",
   "metadata": {},
   "source": [
    "Giving index 0 to empty string \"\""
   ]
  },
  {
   "cell_type": "code",
   "execution_count": 21,
   "metadata": {},
   "outputs": [],
   "source": [
    "word_to_int[\"\"] = 0\n",
    "int_to_word[0] = \"\""
   ]
  },
  {
   "cell_type": "markdown",
   "metadata": {},
   "source": [
    "## Encoding Reviews"
   ]
  },
  {
   "cell_type": "code",
   "execution_count": 22,
   "metadata": {},
   "outputs": [],
   "source": [
    "encoded_reviews = np.array([[word_to_int[word] for word in review] for review in padded_reviews])"
   ]
  },
  {
   "cell_type": "code",
   "execution_count": 23,
   "metadata": {},
   "outputs": [
    {
     "data": {
      "text/plain": [
       "array([   0,    0,    0,    0,    0,    0,    0,    0,    0,    0,    0,\n",
       "          0,    0,    0,    0,    0,    0,    0,    0,    0,    0,    0,\n",
       "          0,    0,    0,    0,    0,    0,    0,    0,    0,    0,    0,\n",
       "          0,    0,    0,    0,    0,    0,    0,    0,    0,    0,    0,\n",
       "          0,    0,    0,    0,    0,    0,    0,    0,    0,    0,    0,\n",
       "          0,    0,    0,    0,    0,   34, 1227, 2053,  961, 1511, 1384,\n",
       "        508,  873,  102, 1765,  192,  228,  632,  540,  295])"
      ]
     },
     "execution_count": 23,
     "metadata": {},
     "output_type": "execute_result"
    }
   ],
   "source": [
    "encoded_reviews[3]"
   ]
  },
  {
   "cell_type": "markdown",
   "metadata": {},
   "source": [
    "## Defining LSTM Model,Loss and Optimizing Function"
   ]
  },
  {
   "cell_type": "code",
   "execution_count": 24,
   "metadata": {},
   "outputs": [],
   "source": [
    "class Model(nn.Module):\n",
    "    def __init__(self, n_vocab, n_embed, n_hidden, n_output, n_layers, drop_p = 0.8):\n",
    "        super().__init__()\n",
    "        self.n_vocab = n_vocab  \n",
    "        self.n_layers = n_layers \n",
    "        self.n_hidden = n_hidden \n",
    "        self.embedding = nn.Embedding(n_vocab, n_embed)\n",
    "        self.lstm = nn.LSTM(n_embed, n_hidden, n_layers, batch_first = True, dropout = drop_p)\n",
    "        self.dropout = nn.Dropout(drop_p)\n",
    "        self.fc = nn.Linear(n_hidden, n_output)\n",
    "        self.sigmoid = nn.Sigmoid()\n",
    "    def forward (self,X):                \n",
    "        embedded_words = self.embedding(X)\n",
    "        lstm_out, h = self.lstm(embedded_words) \n",
    "        lstm_out = self.dropout(lstm_out)\n",
    "        lstm_out = lstm_out.contiguous().view(-1, self.n_hidden)\n",
    "        fc_out = self.fc(lstm_out)                  \n",
    "        sigmoid_out = self.sigmoid(fc_out)              \n",
    "        sigmoid_out = sigmoid_out.view(batch_size, -1)  \n",
    "        sigmoid_last = sigmoid_out[:, -1]\n",
    "        return sigmoid_last, h\n",
    "    def init_hidden (self, batch_size):\n",
    "        device = \"cuda\"\n",
    "        weights = next(self.parameters()).data\n",
    "        h = (weights.new(self.n_layers, batch_size, self.n_hidden).zero_().to(device),\n",
    "             weights.new(self.n_layers, batch_size, self.n_hidden).zero_().to(device))\n",
    "        return h"
   ]
  },
  {
   "cell_type": "code",
   "execution_count": 25,
   "metadata": {},
   "outputs": [],
   "source": [
    "n_vocab = len(word_to_int)\n",
    "n_embed = 75\n",
    "n_hidden = 150\n",
    "n_output = 1\n",
    "n_layers = 2"
   ]
  },
  {
   "cell_type": "code",
   "execution_count": 26,
   "metadata": {},
   "outputs": [],
   "source": [
    "model = Model(n_vocab, n_embed, n_hidden, n_output, n_layers).cuda()"
   ]
  },
  {
   "cell_type": "code",
   "execution_count": 27,
   "metadata": {},
   "outputs": [],
   "source": [
    "criterion = nn.BCELoss()\n",
    "optimizer = torch.optim.Adam(model.parameters(),lr = 0.001)"
   ]
  },
  {
   "cell_type": "markdown",
   "metadata": {},
   "source": [
    "## Train,Test Split"
   ]
  },
  {
   "cell_type": "code",
   "execution_count": 28,
   "metadata": {},
   "outputs": [],
   "source": [
    "labels = np.array([int(x) for x in yelp['sentiment'].values])"
   ]
  },
  {
   "cell_type": "code",
   "execution_count": 29,
   "metadata": {},
   "outputs": [],
   "source": [
    "train_ratio = 0.8\n",
    "valid_ratio = (1 - train_ratio)/2\n",
    "total = len(encoded_reviews)\n",
    "train_cutoff = int(total * train_ratio)\n",
    "valid_cutoff = int(total * (1 - valid_ratio))"
   ]
  },
  {
   "cell_type": "code",
   "execution_count": 30,
   "metadata": {},
   "outputs": [],
   "source": [
    "train_x, train_y = torch.Tensor(encoded_reviews[:train_cutoff]).long().cuda(), torch.Tensor(labels[:train_cutoff]).long().cuda()\n",
    "valid_x, valid_y = torch.Tensor(encoded_reviews[train_cutoff : valid_cutoff]).long().cuda(), torch.Tensor(labels[train_cutoff : valid_cutoff]).long().cuda()\n",
    "test_x, test_y = torch.Tensor(encoded_reviews[valid_cutoff:]).long().cuda(), torch.Tensor(labels[valid_cutoff:]).long().cuda()"
   ]
  },
  {
   "cell_type": "code",
   "execution_count": 32,
   "metadata": {},
   "outputs": [
    {
     "ename": "SyntaxError",
     "evalue": "invalid syntax (<ipython-input-32-0881fb5d22dd>, line 1)",
     "output_type": "error",
     "traceback": [
      "\u001b[1;36m  File \u001b[1;32m\"<ipython-input-32-0881fb5d22dd>\"\u001b[1;36m, line \u001b[1;32m1\u001b[0m\n\u001b[1;33m    train_x.\u001b[0m\n\u001b[1;37m            ^\u001b[0m\n\u001b[1;31mSyntaxError\u001b[0m\u001b[1;31m:\u001b[0m invalid syntax\n"
     ]
    }
   ],
   "source": [
    "train_x"
   ]
  },
  {
   "cell_type": "code",
   "execution_count": 30,
   "metadata": {},
   "outputs": [],
   "source": [
    "train_data = TensorDataset(train_x, train_y)\n",
    "valid_data = TensorDataset(valid_x, valid_y)\n",
    "test_data = TensorDataset(test_x, test_y)"
   ]
  },
  {
   "cell_type": "code",
   "execution_count": 31,
   "metadata": {},
   "outputs": [],
   "source": [
    "batch_size = 1\n",
    "train_loader = DataLoader(train_data, batch_size = batch_size, shuffle = True)\n",
    "valid_loader = DataLoader(valid_data, batch_size = batch_size, shuffle = True)\n",
    "test_loader = DataLoader(test_data, batch_size = batch_size, shuffle = True)"
   ]
  },
  {
   "cell_type": "markdown",
   "metadata": {},
   "source": [
    "## Training the model"
   ]
  },
  {
   "cell_type": "code",
   "execution_count": 32,
   "metadata": {},
   "outputs": [
    {
     "name": "stdout",
     "output_type": "stream",
     "text": [
      "Epoch:1 Batch:200 [200/800] Loss : 0.49018297 Accuracy : 55.0000%\n",
      "Epoch:1 Batch:400 [400/800] Loss : 0.68635511 Accuracy : 55.7500%\n",
      "Epoch:1 Batch:600 [600/800] Loss : 0.81111509 Accuracy : 55.8333%\n",
      "Epoch:1 Batch:800 [800/800] Loss : 1.55398858 Accuracy : 57.7500%\n",
      "Epoch:2 Batch:200 [200/800] Loss : 0.20935562 Accuracy : 73.5000%\n",
      "Epoch:2 Batch:400 [400/800] Loss : 0.17457959 Accuracy : 73.2500%\n",
      "Epoch:2 Batch:600 [600/800] Loss : 0.12602392 Accuracy : 72.1667%\n",
      "Epoch:2 Batch:800 [800/800] Loss : 0.54308349 Accuracy : 73.0000%\n",
      "Epoch:3 Batch:200 [200/800] Loss : 3.79615617 Accuracy : 81.5000%\n",
      "Epoch:3 Batch:400 [400/800] Loss : 0.00925663 Accuracy : 82.2500%\n",
      "Epoch:3 Batch:600 [600/800] Loss : 0.16339934 Accuracy : 82.6667%\n",
      "Epoch:3 Batch:800 [800/800] Loss : 0.11005514 Accuracy : 82.7500%\n",
      "Epoch:4 Batch:200 [200/800] Loss : 0.04334629 Accuracy : 90.0000%\n",
      "Epoch:4 Batch:400 [400/800] Loss : 0.00480212 Accuracy : 91.0000%\n",
      "Epoch:4 Batch:600 [600/800] Loss : 0.02008215 Accuracy : 90.5000%\n",
      "Epoch:4 Batch:800 [800/800] Loss : 0.46657211 Accuracy : 90.3750%\n",
      "Epoch:5 Batch:200 [200/800] Loss : 0.03535368 Accuracy : 97.0000%\n",
      "Epoch:5 Batch:400 [400/800] Loss : 0.00985401 Accuracy : 95.7500%\n",
      "Epoch:5 Batch:600 [600/800] Loss : 0.00155940 Accuracy : 95.0000%\n",
      "Epoch:5 Batch:800 [800/800] Loss : 0.03748551 Accuracy : 94.0000%\n",
      "Epoch:6 Batch:200 [200/800] Loss : 0.00005531 Accuracy : 96.5000%\n",
      "Epoch:6 Batch:400 [400/800] Loss : 0.00963011 Accuracy : 97.5000%\n",
      "Epoch:6 Batch:600 [600/800] Loss : 0.00062175 Accuracy : 97.0000%\n",
      "Epoch:6 Batch:800 [800/800] Loss : 0.00000679 Accuracy : 96.5000%\n",
      "Epoch:7 Batch:200 [200/800] Loss : 0.01175901 Accuracy : 99.0000%\n",
      "Epoch:7 Batch:400 [400/800] Loss : 0.03314450 Accuracy : 98.0000%\n",
      "Epoch:7 Batch:600 [600/800] Loss : 0.00084448 Accuracy : 97.8333%\n",
      "Epoch:7 Batch:800 [800/800] Loss : 0.00072297 Accuracy : 97.7500%\n",
      "Epoch:8 Batch:200 [200/800] Loss : 0.00212764 Accuracy : 98.5000%\n",
      "Epoch:8 Batch:400 [400/800] Loss : 0.00018890 Accuracy : 98.5000%\n",
      "Epoch:8 Batch:600 [600/800] Loss : 0.00044600 Accuracy : 98.5000%\n",
      "Epoch:8 Batch:800 [800/800] Loss : 0.00011647 Accuracy : 98.3750%\n",
      "Epoch:9 Batch:200 [200/800] Loss : 0.00065998 Accuracy : 99.0000%\n",
      "Epoch:9 Batch:400 [400/800] Loss : 0.00227585 Accuracy : 99.5000%\n",
      "Epoch:9 Batch:600 [600/800] Loss : 0.00648961 Accuracy : 99.3333%\n",
      "Epoch:9 Batch:800 [800/800] Loss : 0.00006807 Accuracy : 99.0000%\n",
      "Epoch:10 Batch:200 [200/800] Loss : 0.00040891 Accuracy : 99.0000%\n",
      "Epoch:10 Batch:400 [400/800] Loss : 0.00007868 Accuracy : 99.5000%\n",
      "Epoch:10 Batch:600 [600/800] Loss : 0.01396032 Accuracy : 99.3333%\n",
      "Epoch:10 Batch:800 [800/800] Loss : 0.01509480 Accuracy : 99.2500%\n",
      "Training Duration : 7 minutes and 9 seconds\n"
     ]
    }
   ],
   "source": [
    "import time \n",
    "start = time.time()\n",
    "epochs = 10\n",
    "clip = 5\n",
    "train_loss = []\n",
    "valid_loss = []\n",
    "train_correct = []\n",
    "valid_correct = []\n",
    "for e in range(epochs):\n",
    "    trn_cor = 0\n",
    "    vld_cor = 0\n",
    "    for b,(X_train,Y_train) in enumerate(train_loader): \n",
    "            model.zero_grad()\n",
    "            Y_pred, h = model(X_train)\n",
    "            loss = criterion(Y_pred.squeeze(), Y_train.float())\n",
    "            preds = torch.round(Y_pred.squeeze())\n",
    "            correct_tensor = preds.eq(Y_train.float().view_as(preds)).cpu()\n",
    "            trn_cor += np.sum(np.squeeze(correct_tensor.numpy()))\n",
    "            if ((b+1) % 200) == 0:\n",
    "                print(f\"Epoch:{e+1} Batch:{b+1} [{(b+1)*1}/{800}] Loss : {loss.item():.8f} Accuracy : {(trn_cor.item()/(b+1))*100:.4f}%\")\n",
    "            loss.backward()\n",
    "            nn.utils.clip_grad_norm(model.parameters(), clip)\n",
    "            optimizer.step()\n",
    "    train_loss.append(loss.item())\n",
    "    train_correct.append(trn_cor)\n",
    "    with torch.no_grad():\n",
    "        for X_test,Y_test in valid_loader:\n",
    "            Y_val, v_h = model(X_test)\n",
    "            v_loss = criterion(Y_val.squeeze(),Y_test.float())\n",
    "            preds = torch.round(Y_val.squeeze())\n",
    "            correct_tensor = preds.eq(Y_test.float().view_as(preds)).cpu()\n",
    "            vld_cor += np.sum(np.squeeze(correct_tensor.numpy()))\n",
    "        valid_loss.append(v_loss.item())\n",
    "        valid_correct.append(vld_cor)\n",
    "end = time.time()\n",
    "dur = end-start\n",
    "print(f'Training Duration : {int(dur/60)} minutes and {int(dur%60)} seconds')"
   ]
  },
  {
   "cell_type": "markdown",
   "metadata": {},
   "source": [
    "## Comparing Training and Validation Metrics"
   ]
  },
  {
   "cell_type": "code",
   "execution_count": 33,
   "metadata": {},
   "outputs": [
    {
     "data": {
      "image/png": "[encoded data removed]",
      "text/plain": [
       "<Figure size 432x288 with 1 Axes>"
      ]
     },
     "metadata": {
      "needs_background": "light"
     },
     "output_type": "display_data"
    }
   ],
   "source": [
    "plt.plot([i for i in range(epochs)],train_loss,label = 'Training Loss')\n",
    "plt.title('Training V/S Validation Loss')\n",
    "plt.xlabel('Epochs')\n",
    "plt.ylabel(\"Binary Cross Entropy Loss\")\n",
    "plt.plot([i for i in range(epochs)],valid_loss,label = 'Validation Loss')\n",
    "plt.legend();"
   ]
  },
  {
   "cell_type": "code",
   "execution_count": 34,
   "metadata": {},
   "outputs": [
    {
     "data": {
      "image/png": "[encoded data removed]",
      "text/plain": [
       "<Figure size 432x288 with 1 Axes>"
      ]
     },
     "metadata": {
      "needs_background": "light"
     },
     "output_type": "display_data"
    }
   ],
   "source": [
    "plt.plot([i for i in range(epochs)],[i/800 for i in train_correct],label = 'Training Accuracy')\n",
    "plt.title('Training V/S Validation Accuracy')\n",
    "plt.xlabel('Epochs')\n",
    "plt.ylabel(\"Accuracy\")\n",
    "plt.plot([i for i in range(epochs)],[i/100 for i in valid_correct],label = 'Validation Accuracy')\n",
    "plt.legend();"
   ]
  },
  {
   "cell_type": "markdown",
   "metadata": {},
   "source": [
    "## Saving Model"
   ]
  },
  {
   "cell_type": "code",
   "execution_count": 35,
   "metadata": {},
   "outputs": [],
   "source": [
    "torch.save(model.state_dict(),'./model.pkl')"
   ]
  },
  {
   "cell_type": "markdown",
   "metadata": {},
   "source": [
    "From here onwards we will load the model"
   ]
  },
  {
   "cell_type": "code",
   "execution_count": 36,
   "metadata": {},
   "outputs": [],
   "source": [
    "# model = SentimentLSTM(n_vocab, n_embed, n_hidden, n_output, n_layers).cuda()\n",
    "# model.load_state_dict(torch.load('model.pkl'))"
   ]
  },
  {
   "cell_type": "markdown",
   "metadata": {},
   "source": [
    "## Testing the Model"
   ]
  },
  {
   "cell_type": "code",
   "execution_count": 37,
   "metadata": {},
   "outputs": [],
   "source": [
    "test_total = []\n",
    "pred_total = []\n",
    "test_loss = []\n",
    "with torch.no_grad():\n",
    "        for X_test,Y_test in test_loader:\n",
    "            test_total.append(Y_test)\n",
    "            Y_val, t_h = model(X_test)\n",
    "            t_loss = criterion(Y_val.squeeze(),Y_test.float())\n",
    "            preds = torch.round(Y_val.squeeze())\n",
    "            pred_total.append(preds)\n",
    "            test_loss.append(t_loss.item())"
   ]
  },
  {
   "cell_type": "code",
   "execution_count": 38,
   "metadata": {},
   "outputs": [
    {
     "data": {
      "text/plain": [
       "[<matplotlib.lines.Line2D at 0x2de045f7e80>]"
      ]
     },
     "execution_count": 38,
     "metadata": {},
     "output_type": "execute_result"
    },
    {
     "data": {
      "image/png": "[encoded data removed]",
      "text/plain": [
       "<Figure size 432x288 with 1 Axes>"
      ]
     },
     "metadata": {
      "needs_background": "light"
     },
     "output_type": "display_data"
    }
   ],
   "source": [
    "plt.plot(test_loss)"
   ]
  },
  {
   "cell_type": "code",
   "execution_count": 49,
   "metadata": {},
   "outputs": [],
   "source": [
    "from sklearn.metrics import classification_report"
   ]
  },
  {
   "cell_type": "code",
   "execution_count": 44,
   "metadata": {},
   "outputs": [],
   "source": [
    "test_total = torch.tensor(test_total)\n",
    "pred_total = torch.tensor(pred_total)"
   ]
  },
  {
   "cell_type": "code",
   "execution_count": 50,
   "metadata": {},
   "outputs": [],
   "source": [
    "test_total = test_total.numpy()\n",
    "pred_total = pred_total.numpy().astype(np.int64)"
   ]
  },
  {
   "cell_type": "code",
   "execution_count": 57,
   "metadata": {},
   "outputs": [
    {
     "name": "stdout",
     "output_type": "stream",
     "text": [
      "              precision    recall  f1-score   support\n",
      "\n",
      "           0       0.97      0.70      0.81        96\n",
      "           1       0.06      0.50      0.11         4\n",
      "\n",
      "   micro avg       0.69      0.69      0.69       100\n",
      "   macro avg       0.52      0.60      0.46       100\n",
      "weighted avg       0.93      0.69      0.78       100\n",
      "\n"
     ]
    }
   ],
   "source": [
    "print(classification_report(test_total,pred_total))"
   ]
  },
  {
   "cell_type": "markdown",
   "metadata": {},
   "source": [
    "We got unusual results as our test data contained only 4 positive reviews !!"
   ]
  },
  {
   "cell_type": "code",
   "execution_count": 58,
   "metadata": {},
   "outputs": [],
   "source": [
    "conf = pd.crosstab(test_total,pred_total,rownames=['Actual'],colnames=['Predicted'],margins = True)"
   ]
  },
  {
   "cell_type": "code",
   "execution_count": 59,
   "metadata": {},
   "outputs": [
    {
     "data": {
      "text/html": [
       "<div>\n",
       "<style scoped>\n",
       "    .dataframe tbody tr th:only-of-type {\n",
       "        vertical-align: middle;\n",
       "    }\n",
       "\n",
       "    .dataframe tbody tr th {\n",
       "        vertical-align: top;\n",
       "    }\n",
       "\n",
       "    .dataframe thead th {\n",
       "        text-align: right;\n",
       "    }\n",
       "</style>\n",
       "<table border=\"1\" class=\"dataframe\">\n",
       "  <thead>\n",
       "    <tr style=\"text-align: right;\">\n",
       "      <th>Predicted</th>\n",
       "      <th>0</th>\n",
       "      <th>1</th>\n",
       "      <th>All</th>\n",
       "    </tr>\n",
       "    <tr>\n",
       "      <th>Actual</th>\n",
       "      <th></th>\n",
       "      <th></th>\n",
       "      <th></th>\n",
       "    </tr>\n",
       "  </thead>\n",
       "  <tbody>\n",
       "    <tr>\n",
       "      <th>0</th>\n",
       "      <td>67</td>\n",
       "      <td>29</td>\n",
       "      <td>96</td>\n",
       "    </tr>\n",
       "    <tr>\n",
       "      <th>1</th>\n",
       "      <td>2</td>\n",
       "      <td>2</td>\n",
       "      <td>4</td>\n",
       "    </tr>\n",
       "    <tr>\n",
       "      <th>All</th>\n",
       "      <td>69</td>\n",
       "      <td>31</td>\n",
       "      <td>100</td>\n",
       "    </tr>\n",
       "  </tbody>\n",
       "</table>\n",
       "</div>"
      ],
      "text/plain": [
       "Predicted   0   1  All\n",
       "Actual                \n",
       "0          67  29   96\n",
       "1           2   2    4\n",
       "All        69  31  100"
      ]
     },
     "execution_count": 59,
     "metadata": {},
     "output_type": "execute_result"
    }
   ],
   "source": [
    "conf"
   ]
  },
  {
   "cell_type": "markdown",
   "metadata": {},
   "source": [
    "## Predicting Unknown Reviews"
   ]
  },
  {
   "cell_type": "markdown",
   "metadata": {},
   "source": [
    "Applying same preprocessing techniques to the unknown review"
   ]
  },
  {
   "cell_type": "code",
   "execution_count": 60,
   "metadata": {},
   "outputs": [],
   "source": [
    "def preprocess_review(review):\n",
    "    review = review.translate(str.maketrans('', '',string.punctuation)).lower().rstrip()\n",
    "    tokenized = word_tokenize(review)\n",
    "    if len(tokenized) >= 75:\n",
    "        review = tokenized[:75]\n",
    "    else:\n",
    "        review= ['0']*(75-len(tokenized)) + tokenized\n",
    "    final = []\n",
    "    for token in review:\n",
    "        try:\n",
    "            final.append(word_to_int[token])\n",
    "        except:\n",
    "            final.append(word_to_int[''])\n",
    "    return final"
   ]
  },
  {
   "cell_type": "code",
   "execution_count": 74,
   "metadata": {},
   "outputs": [],
   "source": [
    "def predict(review):\n",
    "    model.eval()\n",
    "    words = np.array([preprocess_review(review)])\n",
    "    padded_words = torch.from_numpy(words).cuda().long()\n",
    "    pred_loader = DataLoader(padded_words, batch_size = 1, shuffle = True)\n",
    "    for x in pred_loader:\n",
    "        output = model(x)[0].item()\n",
    "    msg = \"This is a positive review.\" if output >= 0.5 else \"This is a negative review.\"\n",
    "    print(msg)\n",
    "    print('Prediction = ' + str(output))"
   ]
  },
  {
   "cell_type": "code",
   "execution_count": 81,
   "metadata": {},
   "outputs": [
    {
     "name": "stdout",
     "output_type": "stream",
     "text": [
      "This is a positive review.\n",
      "Prediction = 0.9981502294540405\n"
     ]
    }
   ],
   "source": [
    "predict(\"I enjoyed it pretty much\")"
   ]
  },
  {
   "cell_type": "code",
   "execution_count": 82,
   "metadata": {},
   "outputs": [
    {
     "name": "stdout",
     "output_type": "stream",
     "text": [
      "This is a negative review.\n",
      "Prediction = 4.699601777247153e-05\n"
     ]
    }
   ],
   "source": [
    "predict(\"It was a waste of time\")"
   ]
  }
 ],
 "metadata": {
  "kernelspec": {
   "display_name": "Python 3",
   "language": "python",
   "name": "python3"
  },
  "language_info": {
   "codemirror_mode": {
    "name": "ipython",
    "version": 3
   },
   "file_extension": ".py",
   "mimetype": "text/x-python",
   "name": "python",
   "nbconvert_exporter": "python",
   "pygments_lexer": "ipython3",
   "version": "3.7.3"
  }
 },
 "nbformat": 4,
 "nbformat_minor": 4
}
